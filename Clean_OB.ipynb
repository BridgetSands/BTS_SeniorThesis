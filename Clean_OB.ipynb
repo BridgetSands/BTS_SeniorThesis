{
 "cells": [
  {
   "cell_type": "markdown",
   "id": "88575dfc-1d03-466a-9d64-b13f641bf8cd",
   "metadata": {},
   "source": [
    "#### Bridget Sands\n",
    "#### Harvard University\n",
    "#### Applied Mathematics Senior Thesis\n",
    "#### April 1st, 2024\n",
    "\n",
    "# \"Clean_OB.ipynb\"\n",
    "\n",
    "### Note: This is the 1st notebook used for cleaning, following the original sourcing of the data from baseballR.\n",
    "\n",
    "#### Notebook Purpose and Summary:\n",
    "This notebook was used to clean data originally sourced from the baseballR R package's `mlb_pbp()` function, which returned pitch by pitch data relative to the season and league specified in user entered parameters. This notebook takes in a season of data and creates an additional column that properly reflects the state of the bases at the beginning of a plate appearance, rather than the end of the plate appearance, as it was returned by the function.\n",
    "\n",
    "#### Input:\n",
    "`csv` season of data for specific league/year, sourced and exported by `Data_Acquisition.Rmd`.\n",
    "\n",
    "#### Export:\n",
    "`csv` that contains season of data for inputted specific league/year, ready to be imported and further cleaned by either the `Data_Cleaning_PA.ipynb` or `Data_Cleaning_SB.ipynb` files.\n",
    "\n",
    "#### Glossary:\n",
    "- PA: Plate appearance"
   ]
  },
  {
   "cell_type": "code",
   "execution_count": 1,
   "id": "b515fe0b-87b6-4b3a-bbb1-b14681d53491",
   "metadata": {},
   "outputs": [],
   "source": [
    "# import necessary libraries\n",
    "import numpy as np\n",
    "import pandas as pd\n",
    "import math"
   ]
  },
  {
   "cell_type": "code",
   "execution_count": 2,
   "id": "9b5ff15a-0c90-4201-becd-a421a3fc2e0c",
   "metadata": {},
   "outputs": [],
   "source": [
    "# Specify columns to read in for dataframe - \n",
    "# Columns used distinguished after previous cleaning\n",
    "# In order to not read in unnecessary columnes and save computation time and resources\n",
    "cols = ['game_pk', 'startTime', 'game_date', 'type', 'playId', 'pitchNumber', 'details.description', 'details.event', 'details.code', 'details.isInPlay', 'details.isStrike', 'details.isBall',\n",
    "        'count.balls.start', 'count.strikes.start', 'count.outs.start', 'result.eventType', 'result.description', 'result.rbi', 'result.awayScore', \n",
    "        'result.homeScore', 'about.atBatIndex', 'about.halfInning', 'about.inning', 'about.isComplete', 'about.isScoringPlay', 'matchup.batter.id', \n",
    "        'matchup.batter.fullName', 'matchup.batSide.code', 'matchup.pitcher.id', 'matchup.pitcher.fullName', 'matchup.pitchHand.code', \n",
    "        'matchup.splits.menOnBase', 'details.isOut', 'about.isTopInning'\n",
    "]"
   ]
  },
  {
   "cell_type": "markdown",
   "id": "9eb7e335-1e32-47e6-bc70-ed8c361c967f",
   "metadata": {},
   "source": [
    "## Remember to CHANGE FILE:\n",
    "#### Relative to season needed to clean"
   ]
  },
  {
   "cell_type": "code",
   "execution_count": 3,
   "id": "f3578826-7340-4351-975f-58c71a3903e2",
   "metadata": {},
   "outputs": [],
   "source": [
    "# Read in data as pandas dataframe\n",
    "df = pd.read_csv('da14_r.csv', low_memory=False, usecols=cols)"
   ]
  },
  {
   "cell_type": "code",
   "execution_count": 4,
   "id": "cbeb1088-1a14-4ff5-8ad6-639f8cee5071",
   "metadata": {},
   "outputs": [
    {
     "name": "stdout",
     "output_type": "stream",
     "text": [
      "647495\n",
      "618765\n"
     ]
    }
   ],
   "source": [
    "# Filter dataframe to only consider pitches from complete PAs and first nine innings of games:\n",
    "df = df[(df['about.isComplete']==True)&(df['about.inning']<=9)]\n",
    "print(len(df))\n",
    "\n",
    "# Drop duplicate rows in the dataframe:\n",
    "df = df.drop_duplicates()\n",
    "print(len(df))"
   ]
  },
  {
   "cell_type": "code",
   "execution_count": 5,
   "id": "cfeb4b00-549f-4a65-8dd3-9c2683bb3c8c",
   "metadata": {},
   "outputs": [],
   "source": [
    "# Sort values first by games in season\n",
    "# Sort each game of season by inning \n",
    "# Sort each inning by half inning (top or bottom)\n",
    "# Sort each half inning by atBatIndex --> to order PAs properly\n",
    "df = df.sort_values(by=['game_pk', 'about.inning', 'about.halfInning', 'about.atBatIndex'], ignore_index=True)"
   ]
  },
  {
   "cell_type": "code",
   "execution_count": 6,
   "id": "3d762cce-3a20-4828-be86-843a607512e8",
   "metadata": {},
   "outputs": [],
   "source": [
    "# Create unique identification for each plate appearance\n",
    "df['PA_id'] = df['game_pk'].astype('str') + '-' + df['about.atBatIndex'].astype('str') + '-' + df['about.inning'].astype('str') + '-' + df['about.isTopInning'].astype('int').astype('str')"
   ]
  },
  {
   "cell_type": "markdown",
   "id": "cfb5348b-162d-4398-86b0-74356961ef4e",
   "metadata": {},
   "source": [
    "### Isolate Issues:\n",
    "Previous data exploration indicated that SOME half innings with PAs resulting in a hit by pitch situation had cascading issues throughout the half inning, incorrectly reflecting the base status. In order to account for this, because the number of half innings were miniscule relative to the overall, identify the problematic half innings in order to skip them later."
   ]
  },
  {
   "cell_type": "code",
   "execution_count": 7,
   "id": "6416992f-4897-44e2-8367-30e7c8f14f7d",
   "metadata": {},
   "outputs": [
    {
     "data": {
      "text/plain": [
       "297"
      ]
     },
     "execution_count": 7,
     "metadata": {},
     "output_type": "execute_result"
    }
   ],
   "source": [
    "# Isolate half innings with problems\n",
    "c = 0 \n",
    "uni = df['PA_id'].unique()\n",
    "problems = []\n",
    "\n",
    "for index, row in df[(df['details.description']=='Hit By Pitch')&(df['result.eventType']!='hit_by_pitch')].iterrows():\n",
    "    game = row['game_pk']\n",
    "    half = row['about.halfInning']\n",
    "    inn = row['about.inning']\n",
    "    check = df.loc[(df['game_pk']==game)&(df['about.halfInning']==half)&(df['about.inning']==inn)][['result.eventType']].copy()\n",
    "    check2 = check['result.eventType'].values\n",
    "    if 'hit_by_pitch' not in check2:\n",
    "        problems.append((game, half, inn))\n",
    "        c+=1\n",
    "c"
   ]
  },
  {
   "cell_type": "markdown",
   "id": "3db6e627-b4ee-4c6f-b14f-9a5c0f81107a",
   "metadata": {},
   "source": [
    "### Create new column:\n",
    "Because the method used uses the `about.atBatIndex` of the last PA to correct the current, instead of reassigning the values as the iteration goes, it is imperative to preserve the old, incorrect values so they can continously be used for the adjustment of the new. Therefore, the revised values live in a new column."
   ]
  },
  {
   "cell_type": "code",
   "execution_count": 8,
   "id": "d47566b4-cb3d-4c03-83df-517a51775bc5",
   "metadata": {},
   "outputs": [
    {
     "data": {
      "text/plain": [
       "36190"
      ]
     },
     "execution_count": 8,
     "metadata": {},
     "output_type": "execute_result"
    }
   ],
   "source": [
    "# Create a new column with empty values\n",
    "df['Men_OB'] = ''\n",
    "\n",
    "# Isolate values to identify each unique half inning\n",
    "unique_subset = df[['game_pk', 'about.halfInning', 'about.inning']].drop_duplicates(subset=['game_pk', 'about.halfInning', 'about.inning'])\n",
    "len(unique_subset)"
   ]
  },
  {
   "cell_type": "code",
   "execution_count": 9,
   "id": "d4cceb5d-b8ef-40e3-8716-2e9ab796f4a4",
   "metadata": {},
   "outputs": [
    {
     "name": "stdout",
     "output_type": "stream",
     "text": [
      "1\n",
      "1001\n",
      "2001\n",
      "3001\n",
      "4001\n",
      "5001\n",
      "6001\n",
      "7001\n",
      "8001\n",
      "9001\n",
      "10001\n",
      "11001\n",
      "12001\n",
      "13001\n",
      "14001\n",
      "15001\n",
      "16001\n",
      "17001\n",
      "18001\n",
      "19001\n",
      "20001\n",
      "21001\n",
      "22001\n",
      "23001\n",
      "24001\n",
      "25001\n",
      "26001\n",
      "27001\n",
      "28001\n",
      "29001\n",
      "30001\n",
      "31001\n",
      "32001\n",
      "33001\n",
      "34001\n",
      "35001\n",
      "36001\n"
     ]
    }
   ],
   "source": [
    "# Initialize count of PAs\n",
    "c = 0\n",
    "\n",
    "# Iterate through values of each unique half inning\n",
    "for game, half, inn in unique_subset.values:\n",
    "\n",
    "    # If half innning is problematic, skip it\n",
    "    if (game, half, inn) in problems:\n",
    "        c += 1\n",
    "        continue\n",
    "\n",
    "    # Print for every 1,000 half innings handled for tracking purposes\n",
    "    if c % 1000 == 1:\n",
    "        print(c)\n",
    "\n",
    "    # Create temporary dataframe for the half inning\n",
    "    temp = df.loc[(df['game_pk']==game)&(df['about.halfInning']==half)&(df['about.inning']==inn), ['matchup.splits.menOnBase', 'about.atBatIndex']].copy()\n",
    "    \n",
    "    # Find the number of entries corresponding to the first PA\n",
    "    minAB = len(temp[temp['about.atBatIndex'] == min(temp['about.atBatIndex'])])\n",
    "\n",
    "    # Create list to represent the state of bases for each pitch of half inning \n",
    "    # Initialize with \"Empty\" --> repeated for previously found length of first PA\n",
    "    temp2 = ['Empty'] * minAB\n",
    "\n",
    "    # Get unique PAs of half inning\n",
    "    ABs = temp['about.atBatIndex'].unique()\n",
    "\n",
    "    # Iterate through PAs minus one \n",
    "    # Note that the first PA has already been taken care of, so this is for rest\n",
    "    # Need to shift state of bases of each PA to be the results of the PA before\n",
    "    for i in range(len(ABs)-1):\n",
    "\n",
    "        # Isolate resulting base state of previous PA\n",
    "        curr = temp.loc[temp['about.atBatIndex']==ABs[i], 'matchup.splits.menOnBase'].values[0]\n",
    "\n",
    "        # Find number of pitches in PA of focus\n",
    "        lenAB = len(temp[temp['about.atBatIndex'] == ABs[i+1]])\n",
    "\n",
    "        # Add resulting state of previous PA to list times number of pitches in the PA of focus\n",
    "        temp2 = temp2 + [curr]*lenAB\n",
    "    \n",
    "    c += 1\n",
    "    # Assign properly shifted values to half inning \n",
    "    df.loc[(df['game_pk']==game)&(df['about.halfInning']==half)&(df['about.inning']==inn), 'Men_OB'] = temp2"
   ]
  },
  {
   "cell_type": "code",
   "execution_count": 10,
   "id": "875a3116-a945-4076-8c60-650c483e2782",
   "metadata": {},
   "outputs": [
    {
     "data": {
      "text/plain": [
       "Men_OB\n",
       "Men_On    2925\n",
       "RISP       373\n",
       "            45\n",
       "Name: count, dtype: int64"
      ]
     },
     "execution_count": 10,
     "metadata": {},
     "output_type": "execute_result"
    }
   ],
   "source": [
    "# Confirmation that method executed with proper logic -->\n",
    "# Steals should not happen on empty bases\n",
    "steals = ['Stolen Base 2B', 'Pickoff Error 1B', 'Caught Stealing 2B', 'Pickoff Caught Stealing 2B', 'Pickoff 1B']\n",
    "df[df['details.event'].isin(steals)]['Men_OB'].value_counts()"
   ]
  },
  {
   "cell_type": "code",
   "execution_count": 11,
   "id": "702faca3-edee-4023-aedf-e1510a3d2e55",
   "metadata": {},
   "outputs": [
    {
     "data": {
      "text/plain": [
       "Men_OB\n",
       "Men_On    14659\n",
       "RISP       1373\n",
       "            161\n",
       "Loaded        8\n",
       "Name: count, dtype: int64"
      ]
     },
     "execution_count": 11,
     "metadata": {},
     "output_type": "execute_result"
    }
   ],
   "source": [
    "# Further confirmation that method executed with proper logic -->\n",
    "# Pickoffs should not happen on empty bases\n",
    "df[(df['details.description']=='Pickoff Attempt 1B')]['Men_OB'].value_counts()"
   ]
  },
  {
   "cell_type": "code",
   "execution_count": 12,
   "id": "df252032-03d6-499d-8f73-46f3d18869c8",
   "metadata": {},
   "outputs": [],
   "source": [
    "# Manually adjust for issues\n",
    "df.loc[(df['details.event'].isin(steals))&(df['Men_OB']=='Empty'), 'Men_OB'] = 'Men_On'\n",
    "df.loc[(df['details.description']=='Pickoff Attempt 1B')&(df['Men_OB']=='Empty'), 'Men_OB'] = 'Men_On'"
   ]
  },
  {
   "cell_type": "code",
   "execution_count": 13,
   "id": "b83ca734-6f38-41f7-8872-ce19aeadbfc0",
   "metadata": {},
   "outputs": [
    {
     "name": "stdout",
     "output_type": "stream",
     "text": [
      "618765\n",
      "5671\n",
      "613094\n"
     ]
    }
   ],
   "source": [
    "# Further confirmation that method executed with proper logic -->\n",
    "# Check length of dataframe with unassigned Men_OB values\n",
    "print(len(df))\n",
    "print(len(df[df['Men_OB']=='']))\n",
    "print(len(df[df['Men_OB']!='']))"
   ]
  },
  {
   "cell_type": "code",
   "execution_count": 14,
   "id": "2880b581-f717-4c9b-9bca-708b27415d09",
   "metadata": {},
   "outputs": [
    {
     "data": {
      "text/plain": [
       "Men_OB\n",
       "Empty     322244\n",
       "RISP      138466\n",
       "Men_On    136017\n",
       "Loaded     16367\n",
       "            5671\n",
       "Name: count, dtype: int64"
      ]
     },
     "execution_count": 14,
     "metadata": {},
     "output_type": "execute_result"
    }
   ],
   "source": [
    "# Further confirmation that method executed with proper logic -->\n",
    "# Check Men_OB value counts\n",
    "df['Men_OB'].value_counts()"
   ]
  },
  {
   "cell_type": "markdown",
   "id": "b7231128-d7e6-4ab3-961a-7042fb4091c1",
   "metadata": {},
   "source": [
    "## Write and export code to csv:\n",
    "### Remember to CHANGE FILE LABEL."
   ]
  },
  {
   "cell_type": "code",
   "execution_count": 15,
   "id": "06b1f22e-1e94-4b8a-9e67-0811a9caf995",
   "metadata": {},
   "outputs": [],
   "source": [
    "df = df[df['Men_OB']!='']\n",
    "df.to_csv('da14_wOB_F.csv')"
   ]
  },
  {
   "cell_type": "code",
   "execution_count": null,
   "id": "570ce05e-4c48-443c-a86b-2bea73fdf3c7",
   "metadata": {},
   "outputs": [],
   "source": []
  }
 ],
 "metadata": {
  "kernelspec": {
   "display_name": "Python 3 (ipykernel)",
   "language": "python",
   "name": "python3"
  },
  "language_info": {
   "codemirror_mode": {
    "name": "ipython",
    "version": 3
   },
   "file_extension": ".py",
   "mimetype": "text/x-python",
   "name": "python",
   "nbconvert_exporter": "python",
   "pygments_lexer": "ipython3",
   "version": "3.11.7"
  }
 },
 "nbformat": 4,
 "nbformat_minor": 5
}
