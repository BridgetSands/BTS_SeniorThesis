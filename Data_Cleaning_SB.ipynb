{
 "cells": [
  {
   "cell_type": "markdown",
   "id": "ba26ea9a-a925-4723-aabc-da2e2af5cc48",
   "metadata": {},
   "source": [
    "#### Bridget Sands\n",
    "#### Harvard University\n",
    "#### Applied Mathematics Senior Thesis\n",
    "#### April 1st, 2024\n",
    "\n",
    "# \"Data_Cleaning_SB.ipynb\"\n",
    "\n",
    "### Note: This is the 2nd(B) notebook used for cleaning, following the first cleaning notebook that adjusts for the men on base. It is denoted (B) because it properly prepares data for the SB model. (A) prepares data for the PA model.\n",
    "\n",
    "#### Notebook Purpose and Summary:\n",
    "This notebook was used to do the final cleaning and preparation of the data that had already been cleaned from the first data cleaning notebook, `Clean_OB.ipynb`. This notebook takes in a season of cleaned data, does additional featuring engineering, and exports the season ready to be imported into the SB model.\n",
    "\n",
    "#### Input:\n",
    "1. `csv` season of data for specific league/year, already cleaned by the `Clean_OB.ipynb`.\n",
    "2. `problem_pks.csv` of game_pks for games where ABS is used.\n",
    "\n",
    "#### Export:\n",
    "1. `csv` season of data for inputted specific league/year, ready imported into the `SB_model.Rmd` file.\n",
    "2. `csv` of unique batter ids and names from this season of data.\n",
    "3. `csv` of unique pitcher ids and names from this season of data.\n",
    "4. `csv` of unique ids and names for man on first base from this season of data.\n",
    "\n",
    "#### Glossary:\n",
    "- PA: Plate appearance\n",
    "\n",
    "#### Additional Notes:\n",
    "- Following data cleaning and investigation, it is clear that columns that begin with `details.` generally describe the specific row entry, while columns that begin with `results.` provide information about the overall PA the entry belongs to."
   ]
  },
  {
   "cell_type": "code",
   "execution_count": 1,
   "id": "e2cb0499-ff34-4fd7-8f64-51ae6032f2e9",
   "metadata": {},
   "outputs": [],
   "source": [
    "# Import helpful libraries\n",
    "import numpy as np\n",
    "import pandas as pd\n",
    "import math"
   ]
  },
  {
   "cell_type": "code",
   "execution_count": 2,
   "id": "e8a392cd-3b35-4a6f-a326-3a55d7d64eaf",
   "metadata": {},
   "outputs": [],
   "source": [
    "pd.set_option('display.max_rows', None)\n",
    "pd.set_option('display.max_columns', None)"
   ]
  },
  {
   "cell_type": "markdown",
   "id": "2adb1abd-6e04-41be-b5a0-9a8e70720be3",
   "metadata": {},
   "source": [
    "## Remember to CHANGE FILE:\n",
    "#### Relative to season needed to clean"
   ]
  },
  {
   "cell_type": "code",
   "execution_count": 4,
   "id": "c2ebb470-cba1-42ad-88e3-568a6e1fe62f",
   "metadata": {},
   "outputs": [],
   "source": [
    "# Read in file as a pandas dataframe\n",
    "df = pd.read_csv('da14_wOB_F.csv', low_memory=False)"
   ]
  },
  {
   "cell_type": "code",
   "execution_count": 4,
   "id": "ee15b30d-5266-45b7-9a4f-408ed833c819",
   "metadata": {},
   "outputs": [],
   "source": [
    "# Sort values by game, inning, half inning, atBatIndex, and startTime\n",
    "df = df.sort_values(by=['game_pk', 'about.inning', 'about.halfInning', 'about.atBatIndex', 'startTime'], ignore_index=True)"
   ]
  },
  {
   "cell_type": "code",
   "execution_count": 5,
   "id": "6fbd57b4-38e0-44ae-8cf9-32ca4435989c",
   "metadata": {},
   "outputs": [
    {
     "data": {
      "text/plain": [
       "0"
      ]
     },
     "execution_count": 5,
     "metadata": {},
     "output_type": "execute_result"
    }
   ],
   "source": [
    "# Check how many SBAs and pickoff attempts have NA startTimes \n",
    "# Should be as low as possible, or else big issues, out of order\n",
    "steals = ['Stolen Base 2B', 'Caught Stealing 2B', 'Pickoff Caught Stealing 2B']\n",
    "df[(df['details.event'].isin(steals))|(df['details.description']=='Pickoff Attempt 1B')]['startTime'].isna().sum()"
   ]
  },
  {
   "cell_type": "code",
   "execution_count": 6,
   "id": "406ebf20-6e4e-4dd5-97c0-21a17a7af8d6",
   "metadata": {},
   "outputs": [
    {
     "data": {
      "text/plain": [
       "Men_OB\n",
       "Men_On    2567\n",
       "RISP       483\n",
       "Name: count, dtype: int64"
      ]
     },
     "execution_count": 6,
     "metadata": {},
     "output_type": "execute_result"
    }
   ],
   "source": [
    "# Consider different situations in which SBAs or pickoffs occur\n",
    "# They should all have men on base in some capacity --> can't steal if no one is on base\n",
    "df[((df['type']!='pitch')&((df['details.event'].isin(steals))|((df['details.description']=='Pickoff Attempt 1B')&(df['result.eventType'].str.contains('caught_stealing_2b')))))]['Men_OB'].value_counts()"
   ]
  },
  {
   "cell_type": "code",
   "execution_count": 7,
   "id": "9f35264f-5edf-40f5-83bc-f988c41336ee",
   "metadata": {},
   "outputs": [
    {
     "name": "stdout",
     "output_type": "stream",
     "text": [
      "79585\n"
     ]
    }
   ],
   "source": [
    "# Isolate the PA ids in which there are men on base\n",
    "pas = df[df['Men_OB'].isin(['Men_On', 'RISP', 'Loaded'])]['PA_id'].unique()\n",
    "print(len(pas))\n",
    "\n",
    "# Set temporary values for firstID and firstName to represent \n",
    "# batter id and name of first baserunner\n",
    "df['firstID'] = np.where(df['PA_id'].isin(pas), 'AGH', '')\n",
    "df['firstName'] = np.where(df['PA_id'].isin(pas), 'AGH', '')"
   ]
  },
  {
   "cell_type": "code",
   "execution_count": 8,
   "id": "85a27f16-249f-4e90-8926-51826ded97a4",
   "metadata": {},
   "outputs": [
    {
     "data": {
      "text/plain": [
       "array(['716352-1-1-1', '716352-2-1-1', '716352-3-1-1', ...,\n",
       "       '718782-80-9-1', '718782-82-9-1', '718782-83-9-1'], dtype=object)"
      ]
     },
     "execution_count": 8,
     "metadata": {},
     "output_type": "execute_result"
    }
   ],
   "source": [
    "# Inspect the PA to confirm proper format\n",
    "pas"
   ]
  },
  {
   "cell_type": "code",
   "execution_count": 9,
   "id": "9cdec07d-73aa-4d6b-8421-3c39df5dd981",
   "metadata": {},
   "outputs": [
    {
     "data": {
      "text/plain": [
       "79585"
      ]
     },
     "execution_count": 9,
     "metadata": {},
     "output_type": "execute_result"
    }
   ],
   "source": [
    "# Print the length of the unique PA list\n",
    "len(pas)"
   ]
  },
  {
   "cell_type": "markdown",
   "id": "b5e35704-4b27-4237-b625-5a733f600ef8",
   "metadata": {},
   "source": [
    "## Find identification for the man on first:"
   ]
  },
  {
   "cell_type": "code",
   "execution_count": 12,
   "id": "9e7950ba-93bc-4a10-8351-03d988bed6f7",
   "metadata": {
    "scrolled": true
   },
   "outputs": [
    {
     "name": "stdout",
     "output_type": "stream",
     "text": [
      "1\n",
      "1001\n",
      "2001\n",
      "3001\n",
      "4001\n",
      "5001\n",
      "6001\n",
      "7001\n",
      "8001\n",
      "9001\n",
      "10001\n",
      "11001\n",
      "12001\n",
      "13001\n",
      "14001\n",
      "15001\n",
      "16001\n",
      "17001\n",
      "18001\n",
      "19001\n",
      "20001\n",
      "21001\n",
      "22001\n",
      "23001\n",
      "24001\n",
      "25001\n",
      "26001\n",
      "27001\n",
      "28001\n",
      "29001\n",
      "30001\n",
      "31001\n",
      "32001\n",
      "33001\n",
      "34001\n",
      "35001\n",
      "36001\n",
      "37001\n",
      "38001\n",
      "39001\n",
      "40001\n",
      "41001\n",
      "42001\n",
      "43001\n",
      "44001\n",
      "45001\n",
      "46001\n",
      "47001\n",
      "48001\n",
      "49001\n",
      "50001\n",
      "51001\n",
      "52001\n",
      "53001\n",
      "54001\n",
      "55001\n",
      "56001\n",
      "57001\n",
      "58001\n",
      "59001\n",
      "60001\n",
      "61001\n",
      "62001\n",
      "63001\n",
      "64001\n",
      "65001\n",
      "66001\n",
      "67001\n",
      "68001\n",
      "69001\n",
      "70001\n"
     ]
    },
    {
     "ename": "KeyboardInterrupt",
     "evalue": "",
     "output_type": "error",
     "traceback": [
      "\u001b[0;31m---------------------------------------------------------------------------\u001b[0m",
      "\u001b[0;31mKeyboardInterrupt\u001b[0m                         Traceback (most recent call last)",
      "Cell \u001b[0;32mIn[12], line 8\u001b[0m\n\u001b[1;32m      6\u001b[0m \u001b[38;5;28;01mif\u001b[39;00m cnt \u001b[38;5;241m%\u001b[39m \u001b[38;5;241m1000\u001b[39m \u001b[38;5;241m==\u001b[39m \u001b[38;5;241m1\u001b[39m:\n\u001b[1;32m      7\u001b[0m     \u001b[38;5;28mprint\u001b[39m(cnt)\n\u001b[0;32m----> 8\u001b[0m t \u001b[38;5;241m=\u001b[39m df[\u001b[43mdf\u001b[49m\u001b[43m[\u001b[49m\u001b[38;5;124;43m'\u001b[39;49m\u001b[38;5;124;43mPA_id\u001b[39;49m\u001b[38;5;124;43m'\u001b[39;49m\u001b[43m]\u001b[49m\u001b[43m \u001b[49m\u001b[38;5;241;43m==\u001b[39;49m\u001b[43m \u001b[49m\u001b[43mpa\u001b[49m]\u001b[38;5;241m.\u001b[39mindex\u001b[38;5;241m.\u001b[39mmin()\u001b[38;5;241m-\u001b[39m\u001b[38;5;241m1\u001b[39m\n\u001b[1;32m      9\u001b[0m a, b, c, d \u001b[38;5;241m=\u001b[39m df\u001b[38;5;241m.\u001b[39mloc[t, [\u001b[38;5;124m'\u001b[39m\u001b[38;5;124mMen_OB\u001b[39m\u001b[38;5;124m'\u001b[39m, \u001b[38;5;124m'\u001b[39m\u001b[38;5;124mmatchup.splits.menOnBase\u001b[39m\u001b[38;5;124m'\u001b[39m, \u001b[38;5;124m'\u001b[39m\u001b[38;5;124mresult.eventType\u001b[39m\u001b[38;5;124m'\u001b[39m, \u001b[38;5;124m'\u001b[39m\u001b[38;5;124mresult.description\u001b[39m\u001b[38;5;124m'\u001b[39m]]\u001b[38;5;241m.\u001b[39mvalues\n\u001b[1;32m     10\u001b[0m \u001b[38;5;66;03m# print(\"The beginning state\", a)\u001b[39;00m\n\u001b[1;32m     11\u001b[0m \u001b[38;5;66;03m#print(\"The resulting state\", b) # describes\u001b[39;00m\n\u001b[1;32m     12\u001b[0m \u001b[38;5;66;03m# print(\"The resulting play\", c)\u001b[39;00m\n\u001b[1;32m     13\u001b[0m \u001b[38;5;66;03m# print(\"Actual description\", d)\u001b[39;00m\n",
      "File \u001b[0;32m~/micromamba/envs/cs109b/lib/python3.11/site-packages/pandas/core/ops/common.py:76\u001b[0m, in \u001b[0;36m_unpack_zerodim_and_defer.<locals>.new_method\u001b[0;34m(self, other)\u001b[0m\n\u001b[1;32m     72\u001b[0m             \u001b[38;5;28;01mreturn\u001b[39;00m \u001b[38;5;28mNotImplemented\u001b[39m\n\u001b[1;32m     74\u001b[0m other \u001b[38;5;241m=\u001b[39m item_from_zerodim(other)\n\u001b[0;32m---> 76\u001b[0m \u001b[38;5;28;01mreturn\u001b[39;00m \u001b[43mmethod\u001b[49m\u001b[43m(\u001b[49m\u001b[38;5;28;43mself\u001b[39;49m\u001b[43m,\u001b[49m\u001b[43m \u001b[49m\u001b[43mother\u001b[49m\u001b[43m)\u001b[49m\n",
      "File \u001b[0;32m~/micromamba/envs/cs109b/lib/python3.11/site-packages/pandas/core/arraylike.py:40\u001b[0m, in \u001b[0;36mOpsMixin.__eq__\u001b[0;34m(self, other)\u001b[0m\n\u001b[1;32m     38\u001b[0m \u001b[38;5;129m@unpack_zerodim_and_defer\u001b[39m(\u001b[38;5;124m\"\u001b[39m\u001b[38;5;124m__eq__\u001b[39m\u001b[38;5;124m\"\u001b[39m)\n\u001b[1;32m     39\u001b[0m \u001b[38;5;28;01mdef\u001b[39;00m \u001b[38;5;21m__eq__\u001b[39m(\u001b[38;5;28mself\u001b[39m, other):\n\u001b[0;32m---> 40\u001b[0m     \u001b[38;5;28;01mreturn\u001b[39;00m \u001b[38;5;28;43mself\u001b[39;49m\u001b[38;5;241;43m.\u001b[39;49m\u001b[43m_cmp_method\u001b[49m\u001b[43m(\u001b[49m\u001b[43mother\u001b[49m\u001b[43m,\u001b[49m\u001b[43m \u001b[49m\u001b[43moperator\u001b[49m\u001b[38;5;241;43m.\u001b[39;49m\u001b[43meq\u001b[49m\u001b[43m)\u001b[49m\n",
      "File \u001b[0;32m~/micromamba/envs/cs109b/lib/python3.11/site-packages/pandas/core/series.py:6099\u001b[0m, in \u001b[0;36mSeries._cmp_method\u001b[0;34m(self, other, op)\u001b[0m\n\u001b[1;32m   6096\u001b[0m lvalues \u001b[38;5;241m=\u001b[39m \u001b[38;5;28mself\u001b[39m\u001b[38;5;241m.\u001b[39m_values\n\u001b[1;32m   6097\u001b[0m rvalues \u001b[38;5;241m=\u001b[39m extract_array(other, extract_numpy\u001b[38;5;241m=\u001b[39m\u001b[38;5;28;01mTrue\u001b[39;00m, extract_range\u001b[38;5;241m=\u001b[39m\u001b[38;5;28;01mTrue\u001b[39;00m)\n\u001b[0;32m-> 6099\u001b[0m res_values \u001b[38;5;241m=\u001b[39m \u001b[43mops\u001b[49m\u001b[38;5;241;43m.\u001b[39;49m\u001b[43mcomparison_op\u001b[49m\u001b[43m(\u001b[49m\u001b[43mlvalues\u001b[49m\u001b[43m,\u001b[49m\u001b[43m \u001b[49m\u001b[43mrvalues\u001b[49m\u001b[43m,\u001b[49m\u001b[43m \u001b[49m\u001b[43mop\u001b[49m\u001b[43m)\u001b[49m\n\u001b[1;32m   6101\u001b[0m \u001b[38;5;28;01mreturn\u001b[39;00m \u001b[38;5;28mself\u001b[39m\u001b[38;5;241m.\u001b[39m_construct_result(res_values, name\u001b[38;5;241m=\u001b[39mres_name)\n",
      "File \u001b[0;32m~/micromamba/envs/cs109b/lib/python3.11/site-packages/pandas/core/ops/array_ops.py:344\u001b[0m, in \u001b[0;36mcomparison_op\u001b[0;34m(left, right, op)\u001b[0m\n\u001b[1;32m    341\u001b[0m     \u001b[38;5;28;01mreturn\u001b[39;00m invalid_comparison(lvalues, rvalues, op)\n\u001b[1;32m    343\u001b[0m \u001b[38;5;28;01melif\u001b[39;00m lvalues\u001b[38;5;241m.\u001b[39mdtype \u001b[38;5;241m==\u001b[39m \u001b[38;5;28mobject\u001b[39m \u001b[38;5;129;01mor\u001b[39;00m \u001b[38;5;28misinstance\u001b[39m(rvalues, \u001b[38;5;28mstr\u001b[39m):\n\u001b[0;32m--> 344\u001b[0m     res_values \u001b[38;5;241m=\u001b[39m \u001b[43mcomp_method_OBJECT_ARRAY\u001b[49m\u001b[43m(\u001b[49m\u001b[43mop\u001b[49m\u001b[43m,\u001b[49m\u001b[43m \u001b[49m\u001b[43mlvalues\u001b[49m\u001b[43m,\u001b[49m\u001b[43m \u001b[49m\u001b[43mrvalues\u001b[49m\u001b[43m)\u001b[49m\n\u001b[1;32m    346\u001b[0m \u001b[38;5;28;01melse\u001b[39;00m:\n\u001b[1;32m    347\u001b[0m     res_values \u001b[38;5;241m=\u001b[39m _na_arithmetic_op(lvalues, rvalues, op, is_cmp\u001b[38;5;241m=\u001b[39m\u001b[38;5;28;01mTrue\u001b[39;00m)\n",
      "File \u001b[0;32m~/micromamba/envs/cs109b/lib/python3.11/site-packages/pandas/core/ops/array_ops.py:129\u001b[0m, in \u001b[0;36mcomp_method_OBJECT_ARRAY\u001b[0;34m(op, x, y)\u001b[0m\n\u001b[1;32m    127\u001b[0m     result \u001b[38;5;241m=\u001b[39m libops\u001b[38;5;241m.\u001b[39mvec_compare(x\u001b[38;5;241m.\u001b[39mravel(), y\u001b[38;5;241m.\u001b[39mravel(), op)\n\u001b[1;32m    128\u001b[0m \u001b[38;5;28;01melse\u001b[39;00m:\n\u001b[0;32m--> 129\u001b[0m     result \u001b[38;5;241m=\u001b[39m \u001b[43mlibops\u001b[49m\u001b[38;5;241;43m.\u001b[39;49m\u001b[43mscalar_compare\u001b[49m\u001b[43m(\u001b[49m\u001b[43mx\u001b[49m\u001b[38;5;241;43m.\u001b[39;49m\u001b[43mravel\u001b[49m\u001b[43m(\u001b[49m\u001b[43m)\u001b[49m\u001b[43m,\u001b[49m\u001b[43m \u001b[49m\u001b[43my\u001b[49m\u001b[43m,\u001b[49m\u001b[43m \u001b[49m\u001b[43mop\u001b[49m\u001b[43m)\u001b[49m\n\u001b[1;32m    130\u001b[0m \u001b[38;5;28;01mreturn\u001b[39;00m result\u001b[38;5;241m.\u001b[39mreshape(x\u001b[38;5;241m.\u001b[39mshape)\n",
      "\u001b[0;31mKeyboardInterrupt\u001b[0m: "
     ]
    }
   ],
   "source": [
    "# Error count that increments if a PA is considered without a man on base\n",
    "errors = 0\n",
    "\n",
    "# Error that increments and prints if there is a case that is not bucketed \n",
    "errors2 =0\n",
    "\n",
    "# Count the iteration\n",
    "cnt = 0 \n",
    "\n",
    "# Call to iteration \n",
    "for pa in pas:\n",
    "    cnt += 1\n",
    "\n",
    "    # If divisible by 1000, print count--> progress tracking\n",
    "    if cnt % 1000 == 1:\n",
    "        print(cnt)\n",
    "\n",
    "    # Gain access to PA before current\n",
    "    t = df[df['PA_id'] == pa].index.min()-1\n",
    "\n",
    "    # Pull necessary information from PA before\n",
    "    a, b, c, d = df.loc[t, ['Men_OB', 'matchup.splits.menOnBase', 'result.eventType', 'result.description']].values\n",
    "\n",
    "    # Confirm last PA resulted in at least one man on base\n",
    "    if (b != 'Men_On') and (b != 'RISP') and (b != 'Loaded'):\n",
    "        errors += 1\n",
    "        continue\n",
    "\n",
    "    # Handle case in which batter is always the one to get on base\n",
    "    if c in ['single', 'walk', 'intent_walk', 'field_error', 'hit_by_pitch', 'catcher_interf', 'fielders_choice', 'fielders_choice_out']:\n",
    "        df.loc[df['PA_id']==pa,['firstID', 'firstName']] = df.loc[t,['matchup.batter.id', 'matchup.batter.fullName']].values\n",
    "\n",
    "    # Handle force out case\n",
    "    elif c =='force_out':\n",
    "        if (\"to 1st\" not in d) and (\"to 2nd\" in d):\n",
    "            df.loc[df['PA_id']==pa,['firstID', 'firstName']] = ['', '']\n",
    "        else:\n",
    "            df.loc[df['PA_id']==pa,['firstID', 'firstName']] = df.loc[t,['matchup.batter.id', 'matchup.batter.fullName']].values\n",
    "\n",
    "    # Handle double play grounders\n",
    "    elif c == 'grounded_into_double_play':\n",
    "        if ('out at 1st' in d):\n",
    "            df.loc[df['PA_id']==pa,['firstID', 'firstName']] = ['', '']\n",
    "        else:\n",
    "            df.loc[df['PA_id']==pa,['firstID', 'firstName']] = df.loc[t,['matchup.batter.id', 'matchup.batter.fullName']].values\n",
    "\n",
    "    # Handle double plays\n",
    "    elif c == 'double_play':\n",
    "        if 'to 1st' in d:\n",
    "            df.loc[df['PA_id']==pa,['firstID', 'firstName']] = df.loc[t,['matchup.batter.id', 'matchup.batter.fullName']].values\n",
    "        elif (\"to 2nd\" in d) or (\"out at 1st\" in d):\n",
    "            df.loc[df['PA_id']==pa,['firstID', 'firstName']] = ['', '']\n",
    "        else:\n",
    "            df.loc[df['PA_id']==pa,['firstID', 'firstName']] = df.loc[t, ['firstID', 'firstName']].values\n",
    "\n",
    "    # Handle sacrifice bunts\n",
    "    elif c == 'sac_bunt':\n",
    "        if 'to 1st' in d:\n",
    "            df.loc[df['PA_id']==pa,['firstID', 'firstName']] = df.loc[t,['matchup.batter.id', 'matchup.batter.fullName']].values\n",
    "        else:\n",
    "            df.loc[df['PA_id']==pa,['firstID', 'firstName']] = ['', '']\n",
    "\n",
    "    # Handle field outs\n",
    "    elif c == 'field_out':\n",
    "        if (any(substring in d for substring in ['flies', 'pops', 'lines', 'grounds out'])) and ('to 2nd' not in d):\n",
    "            df.loc[df['PA_id']==pa,['firstID', 'firstName']] = df.loc[t, ['firstID', 'firstName']].values\n",
    "        \n",
    "        else:\n",
    "            df.loc[df['PA_id']==pa,['firstID', 'firstName']] = ['', '']\n",
    "\n",
    "    # Handle sacrifice outs\n",
    "    elif c in ['sac_fly', 'sac_fly_double_play']:\n",
    "        if 'to 1st' in d:\n",
    "            df.loc[df['PA_id']==pa,['firstID', 'firstName']] = df.loc[t,['matchup.batter.id', 'matchup.batter.fullName']].values\n",
    "\n",
    "        elif 'to 2nd' in d:\n",
    "            df.loc[df['PA_id']==pa,['firstID', 'firstName']] = ['', '']\n",
    "\n",
    "        else: \n",
    "            df.loc[df['PA_id']==pa,['firstID', 'firstName']] = df.loc[t, ['firstID', 'firstName']].values\n",
    "            \n",
    "    # Handle strikeouts\n",
    "    elif c == 'strikeout':\n",
    "        if \"to 1st\" in d:\n",
    "            df.loc[df['PA_id']==pa,['firstID', 'firstName']] = df.loc[t,['matchup.batter.id', 'matchup.batter.fullName']].values\n",
    "        else: \n",
    "            df.loc[df['PA_id']==pa,['firstID', 'firstName']] = df.loc[t, ['firstID', 'firstName']].values\n",
    "\n",
    "    # Handle cases in which batter is never on first\n",
    "    elif c in ['double', 'triple']:\n",
    "        df.loc[df['PA_id']==pa,['firstID', 'firstName']] = ['', '']\n",
    "\n",
    "    # Print out error if it doesn't fall into any of the considered caxes\n",
    "    else:\n",
    "        print('Error! Beware.')\n",
    "        errors2 += 1"
   ]
  },
  {
   "cell_type": "code",
   "execution_count": null,
   "id": "cf26486f-1af5-409f-8058-679b1dc04e09",
   "metadata": {},
   "outputs": [],
   "source": [
    "# Check how many entries don't have a row for the man on first\n",
    "# Note that if there isn't anyone on first, there should be an empty string\n",
    "# Therefore this value should be as close to zero as possible\n",
    "len(df[df['firstID']=='AGH'])"
   ]
  },
  {
   "cell_type": "code",
   "execution_count": null,
   "id": "a169b25d-f9a2-4a9e-931b-e80515d71f04",
   "metadata": {},
   "outputs": [],
   "source": [
    "# Check number of entries known to have a man on first but don't have entries\n",
    "# Number wanted to be as close to zero as possible\n",
    "len(df[(df['firstID']=='')&(df['Men_OB']=='Men_On')]) "
   ]
  },
  {
   "cell_type": "code",
   "execution_count": null,
   "id": "b1fbe850-af46-4feb-88d8-66fae8acb71b",
   "metadata": {},
   "outputs": [],
   "source": [
    "# Display all incorrect cases\n",
    "df[(df['firstID']=='')&(df['Men_OB']=='Men_On')]"
   ]
  },
  {
   "cell_type": "code",
   "execution_count": null,
   "id": "c42a7566-8dea-47ba-83b0-fa7c90c5c1bc",
   "metadata": {},
   "outputs": [],
   "source": [
    "# Create last pitch indicator to be used in further feature engineering\n",
    "max_vals = df.groupby('PA_id')['pitchNumber'].transform('max') == df['pitchNumber']\n",
    "df['Last_pitch'] = max_vals.astype(int)\n",
    "\n",
    "# First part of Strikes feature engineering\n",
    "df['Strikes'] = np.where((df['type']=='pitch')&(df['details.isStrike'])&(df['count.strikes.start']==2)&(df['Last_pitch']==False)&(df['details.description'].isin(['Foul', 'Foul Bunt', 'Foul Tip'])), -1,\n",
    "                                                                                                            np.where((df['type']=='pitch')&df['details.isStrike'], df['count.strikes.start']-1, df['count.strikes.start']))\n",
    "                                                                                                             \n",
    "\n",
    "# Balls feature engineering\n",
    "df['Balls'] = np.where(df['details.isBall']==True, df['count.balls.start']-1, df['count.balls.start'])\n",
    "\n",
    "# Rename Outs feature\n",
    "df['Outs'] = df['count.outs.start']\n",
    "\n",
    "# Create Batter_home feature\n",
    "df['Batter_home'] = np.where(df['about.isTopInning'], 0, 1)\n",
    "\n",
    "# Rename Inning feature\n",
    "df['Inning'] = df['about.inning']"
   ]
  },
  {
   "cell_type": "code",
   "execution_count": null,
   "id": "2e674795-d5b1-4d40-94f2-6316f1e118a5",
   "metadata": {},
   "outputs": [],
   "source": [
    "# Understand strikes after first part of engineering\n",
    "df['Strikes'].value_counts()"
   ]
  },
  {
   "cell_type": "code",
   "execution_count": null,
   "id": "b755f2bc-fb29-4f5d-9cff-d3d00ac6294d",
   "metadata": {},
   "outputs": [],
   "source": [
    "# Run second parts of Strikes feature engineering\n",
    "for index, row in df[df['Strikes']==-1].iterrows():\n",
    "    r = row['count.strikes.start']\n",
    "    curr_loc = df.index.get_loc(index)\n",
    "    nxt = df.loc[(index-10):index-1][df.loc[(index-10):index-1, 'type'] == 'pitch'].index.max()\n",
    "    #print(index)\n",
    "    b4 = df.loc[nxt, 'count.strikes.start']\n",
    "    if r == b4:\n",
    "        df.loc[index, 'Strikes2'] = row['count.strikes.start']\n",
    "    else:\n",
    "        #print('penis')\n",
    "        df.loc[index, 'Strikes2'] = row['count.strikes.start']-1"
   ]
  },
  {
   "cell_type": "code",
   "execution_count": null,
   "id": "6f552cd1-d20b-40f3-8ef8-b6ab742b776b",
   "metadata": {},
   "outputs": [],
   "source": [
    "# Understand second part of Strikes engineering outcome\n",
    "print(df['Strikes2'].value_counts())\n",
    "\n",
    "# Execute final part of Strikes engineering\n",
    "df['Strikes'] = np.where(df['Strikes']==-1, df['Strikes2'], df['Strikes'])\n",
    "df['Strikes'].value_counts()"
   ]
  },
  {
   "cell_type": "code",
   "execution_count": null,
   "id": "d7dc8c7d-8291-4a29-80db-bbf43a541a6c",
   "metadata": {},
   "outputs": [],
   "source": [
    "# Investigate NAs in the data\n",
    "df.isna().sum()"
   ]
  },
  {
   "cell_type": "code",
   "execution_count": null,
   "id": "153ee44f-87fa-4bc5-b743-aaf76d38b1a8",
   "metadata": {},
   "outputs": [],
   "source": [
    "# Isolate PAs in which SBA or pickoff variation occurred\n",
    "unis = df[(df['Men_OB'] == 'Men_On')&((df['details.event'].isin(steals))|(df['details.description']=='Pickoff Attempt 1B'))]['PA_id'].unique()\n",
    "# Print length of this \n",
    "len(unis)"
   ]
  },
  {
   "cell_type": "markdown",
   "id": "2df81b47-a9f8-447a-939e-82fb0596f5ae",
   "metadata": {},
   "source": [
    "## Create response variable and AB_pickoffs count:"
   ]
  },
  {
   "cell_type": "code",
   "execution_count": null,
   "id": "8281209b-5797-4e31-adb1-7b884767324f",
   "metadata": {},
   "outputs": [],
   "source": [
    "# Initialize values for features to be created\n",
    "df['AB_pickoffs'] = 0\n",
    "df['SBA'] = 0\n",
    "df['SBA_spec'] = ''\n",
    "df['SBA_check'] = 0\n",
    "\n",
    "# Intitialize counter to keep track of iterations\n",
    "c = 0\n",
    "\n",
    "# Initialize counter that keeps track of number of PAs skipped (in original list by error)\n",
    "skip = 0\n",
    "\n",
    "# Iteratie through the list\n",
    "for id2 in unis:\n",
    "    c += 1\n",
    "\n",
    "    # Print progress if iteration is divisiable --> tracking\n",
    "    if c % 1000 == 1:\n",
    "        print(c)\n",
    "\n",
    "    # Create temporary dataframe for the PA\n",
    "    temp = df[df['PA_id']==id2].copy()\n",
    "\n",
    "    # Check if current PA was added in error\n",
    "    if ('Pickoff Attempt 1B' not in temp['details.description'].values) and (len(temp[temp['details.event'].isin(steals)])==0):\n",
    "        skip += 1\n",
    "        continue\n",
    "\n",
    "    # Initialize AB_pickoffs for current PA \n",
    "    po_c = 0\n",
    "\n",
    "    # Iterate through each row of temporary dataframe \n",
    "    for index, row in temp.iterrows():\n",
    "\n",
    "        # If the current row is a pickoff attempt, add to AB_pickoffs count\n",
    "        if (row['details.description'] == 'Pickoff Attempt 1B') and ('caught_stealing_2b' not in row['result.eventType']):\n",
    "            po_c += 1\n",
    "        \n",
    "        # Set AB_pickoffs for each row \n",
    "        df.loc[index, 'AB_pickoffs'] = po_c\n",
    "\n",
    "        # Identify instances where half inning ends on a caught SBA\n",
    "        if ((row['details.description'] == 'Pickoff Attempt 1B') and ('caught_stealing_2b' in row['result.eventType'])):\n",
    "            max_index = temp['pitchNumber'].idxmax()\n",
    "\n",
    "            # Try to associate with the pitch before, if possible\n",
    "            if not math.isnan(max_index):\n",
    "                df.loc[max_index, 'SBA_spec'] = row['result.eventType']\n",
    "                df.loc[max_index, 'SBA'] = 1\n",
    "                df.loc[index, 'SBA_check'] = 1\n",
    "\n",
    "            # Create fake pitch to associate otherwise\n",
    "            else:\n",
    "                if index == temp.index.max():\n",
    "                    df.loc[index, 'type'] = 'pitch'\n",
    "                    df.loc[index, 'AB_pickoffs'] = index - temp.index.min()\n",
    "                    df.loc[index, 'SBA_spec'] = row['result.eventType']\n",
    "                    df.loc[index, 'SBA'] = 1\n",
    "                    df.loc[index, 'SBA_check'] = 1\n",
    "\n",
    "        # Consider cases where SBA that doesn't end half inning\n",
    "        elif (row['details.event'] in steals):\n",
    "            \n",
    "            # Associate with pitch before if possible\n",
    "            next_pitch_index = temp.loc[(index-1):index][temp.loc[(index-1):index, 'type'] == 'pitch'].index.max()\n",
    "            if not pd.isna(next_pitch_index):\n",
    "                if df.loc[next_pitch_index, 'PA_id'] == row['PA_id']:\n",
    "                    if (row['details.event'] in ['Caught Stealing 2B', 'Pickoff Caught Stealing 2B']):\n",
    "                        df.loc[next_pitch_index, 'Outs'] = row['Outs']-1 \n",
    "                    #print('YA')\n",
    "                    df.loc[next_pitch_index, 'SBA_spec'] = row['details.event']\n",
    "                    df.loc[next_pitch_index, 'SBA'] = 1\n",
    "                    df.loc[index, 'SBA_check'] = 1\n",
    "\n",
    "            # If not associate with pitch after \n",
    "            else: \n",
    "                last_pitch_index = df.loc[(index+1):][df.loc[(index+1):, 'type'] == 'pitch'].index.min()\n",
    "                if not pd.isna(last_pitch_index):\n",
    "                    if (row['details.event'] in ['Caught Stealing 2B', 'Pickoff Caught Stealing 2B']):\n",
    "                        df.loc[last_pitch_index, 'Outs'] = row['Outs']-1 \n",
    "                    if (row['about.inning'] == df.loc[last_pitch_index, 'about.inning']) and (row['about.halfInning'] == df.loc[last_pitch_index, 'about.halfInning']):\n",
    "                        df.loc[last_pitch_index, 'SBA_spec'] = row['details.event']\n",
    "                        df.loc[last_pitch_index, 'SBA'] = 1\n",
    "                        df.loc[index, 'SBA_check'] = 1\n"
   ]
  },
  {
   "cell_type": "code",
   "execution_count": null,
   "id": "b92bccf5-4dbb-4a50-9857-7d1757cdb0fe",
   "metadata": {},
   "outputs": [],
   "source": [
    "# Confirm no rows with the Balls feature = -1\n",
    "df['Balls'].value_counts()"
   ]
  },
  {
   "cell_type": "code",
   "execution_count": null,
   "id": "7475b3dd-608f-4ea3-bc01-ad2abb759b13",
   "metadata": {},
   "outputs": [],
   "source": [
    "# Confirm no rows with the Outs feature = -1\n",
    "df['Outs'].value_counts()"
   ]
  },
  {
   "cell_type": "code",
   "execution_count": 22,
   "id": "3b930c34-a4f9-4313-b2ba-126a9ad6d77b",
   "metadata": {},
   "outputs": [
    {
     "ename": "KeyError",
     "evalue": "'SBA'",
     "output_type": "error",
     "traceback": [
      "\u001b[0;31m---------------------------------------------------------------------------\u001b[0m",
      "\u001b[0;31mKeyError\u001b[0m                                  Traceback (most recent call last)",
      "File \u001b[0;32m~/micromamba/envs/cs109b/lib/python3.11/site-packages/pandas/core/indexes/base.py:3802\u001b[0m, in \u001b[0;36mIndex.get_loc\u001b[0;34m(self, key)\u001b[0m\n\u001b[1;32m   3801\u001b[0m \u001b[38;5;28;01mtry\u001b[39;00m:\n\u001b[0;32m-> 3802\u001b[0m     \u001b[38;5;28;01mreturn\u001b[39;00m \u001b[38;5;28;43mself\u001b[39;49m\u001b[38;5;241;43m.\u001b[39;49m\u001b[43m_engine\u001b[49m\u001b[38;5;241;43m.\u001b[39;49m\u001b[43mget_loc\u001b[49m\u001b[43m(\u001b[49m\u001b[43mcasted_key\u001b[49m\u001b[43m)\u001b[49m\n\u001b[1;32m   3803\u001b[0m \u001b[38;5;28;01mexcept\u001b[39;00m \u001b[38;5;167;01mKeyError\u001b[39;00m \u001b[38;5;28;01mas\u001b[39;00m err:\n",
      "File \u001b[0;32mindex.pyx:153\u001b[0m, in \u001b[0;36mpandas._libs.index.IndexEngine.get_loc\u001b[0;34m()\u001b[0m\n",
      "File \u001b[0;32mindex.pyx:182\u001b[0m, in \u001b[0;36mpandas._libs.index.IndexEngine.get_loc\u001b[0;34m()\u001b[0m\n",
      "File \u001b[0;32mpandas/_libs/hashtable_class_helper.pxi:7081\u001b[0m, in \u001b[0;36mpandas._libs.hashtable.PyObjectHashTable.get_item\u001b[0;34m()\u001b[0m\n",
      "File \u001b[0;32mpandas/_libs/hashtable_class_helper.pxi:7089\u001b[0m, in \u001b[0;36mpandas._libs.hashtable.PyObjectHashTable.get_item\u001b[0;34m()\u001b[0m\n",
      "\u001b[0;31mKeyError\u001b[0m: 'SBA'",
      "\nThe above exception was the direct cause of the following exception:\n",
      "\u001b[0;31mKeyError\u001b[0m                                  Traceback (most recent call last)",
      "Cell \u001b[0;32mIn[22], line 1\u001b[0m\n\u001b[0;32m----> 1\u001b[0m df[\u001b[43mdf\u001b[49m\u001b[43m[\u001b[49m\u001b[38;5;124;43m'\u001b[39;49m\u001b[38;5;124;43mSBA\u001b[39;49m\u001b[38;5;124;43m'\u001b[39;49m\u001b[43m]\u001b[49m\u001b[38;5;241m==\u001b[39m\u001b[38;5;241m0\u001b[39m][\u001b[38;5;124m'\u001b[39m\u001b[38;5;124mAB_pickoffs\u001b[39m\u001b[38;5;124m'\u001b[39m]\u001b[38;5;241m.\u001b[39mvalue_counts()\n",
      "File \u001b[0;32m~/micromamba/envs/cs109b/lib/python3.11/site-packages/pandas/core/frame.py:4090\u001b[0m, in \u001b[0;36mDataFrame.__getitem__\u001b[0;34m(self, key)\u001b[0m\n\u001b[1;32m   4088\u001b[0m \u001b[38;5;28;01mif\u001b[39;00m \u001b[38;5;28mself\u001b[39m\u001b[38;5;241m.\u001b[39mcolumns\u001b[38;5;241m.\u001b[39mnlevels \u001b[38;5;241m>\u001b[39m \u001b[38;5;241m1\u001b[39m:\n\u001b[1;32m   4089\u001b[0m     \u001b[38;5;28;01mreturn\u001b[39;00m \u001b[38;5;28mself\u001b[39m\u001b[38;5;241m.\u001b[39m_getitem_multilevel(key)\n\u001b[0;32m-> 4090\u001b[0m indexer \u001b[38;5;241m=\u001b[39m \u001b[38;5;28;43mself\u001b[39;49m\u001b[38;5;241;43m.\u001b[39;49m\u001b[43mcolumns\u001b[49m\u001b[38;5;241;43m.\u001b[39;49m\u001b[43mget_loc\u001b[49m\u001b[43m(\u001b[49m\u001b[43mkey\u001b[49m\u001b[43m)\u001b[49m\n\u001b[1;32m   4091\u001b[0m \u001b[38;5;28;01mif\u001b[39;00m is_integer(indexer):\n\u001b[1;32m   4092\u001b[0m     indexer \u001b[38;5;241m=\u001b[39m [indexer]\n",
      "File \u001b[0;32m~/micromamba/envs/cs109b/lib/python3.11/site-packages/pandas/core/indexes/base.py:3809\u001b[0m, in \u001b[0;36mIndex.get_loc\u001b[0;34m(self, key)\u001b[0m\n\u001b[1;32m   3804\u001b[0m     \u001b[38;5;28;01mif\u001b[39;00m \u001b[38;5;28misinstance\u001b[39m(casted_key, \u001b[38;5;28mslice\u001b[39m) \u001b[38;5;129;01mor\u001b[39;00m (\n\u001b[1;32m   3805\u001b[0m         \u001b[38;5;28misinstance\u001b[39m(casted_key, abc\u001b[38;5;241m.\u001b[39mIterable)\n\u001b[1;32m   3806\u001b[0m         \u001b[38;5;129;01mand\u001b[39;00m \u001b[38;5;28many\u001b[39m(\u001b[38;5;28misinstance\u001b[39m(x, \u001b[38;5;28mslice\u001b[39m) \u001b[38;5;28;01mfor\u001b[39;00m x \u001b[38;5;129;01min\u001b[39;00m casted_key)\n\u001b[1;32m   3807\u001b[0m     ):\n\u001b[1;32m   3808\u001b[0m         \u001b[38;5;28;01mraise\u001b[39;00m InvalidIndexError(key)\n\u001b[0;32m-> 3809\u001b[0m     \u001b[38;5;28;01mraise\u001b[39;00m \u001b[38;5;167;01mKeyError\u001b[39;00m(key) \u001b[38;5;28;01mfrom\u001b[39;00m \u001b[38;5;21;01merr\u001b[39;00m\n\u001b[1;32m   3810\u001b[0m \u001b[38;5;28;01mexcept\u001b[39;00m \u001b[38;5;167;01mTypeError\u001b[39;00m:\n\u001b[1;32m   3811\u001b[0m     \u001b[38;5;66;03m# If we have a listlike key, _check_indexing_error will raise\u001b[39;00m\n\u001b[1;32m   3812\u001b[0m     \u001b[38;5;66;03m#  InvalidIndexError. Otherwise we fall through and re-raise\u001b[39;00m\n\u001b[1;32m   3813\u001b[0m     \u001b[38;5;66;03m#  the TypeError.\u001b[39;00m\n\u001b[1;32m   3814\u001b[0m     \u001b[38;5;28mself\u001b[39m\u001b[38;5;241m.\u001b[39m_check_indexing_error(key)\n",
      "\u001b[0;31mKeyError\u001b[0m: 'SBA'"
     ]
    }
   ],
   "source": [
    "# Evaluate the distribution of AB_pickoffs for pitches that do not have SBA\n",
    "df[df['SBA']==0]['AB_pickoffs'].value_counts()"
   ]
  },
  {
   "cell_type": "code",
   "execution_count": null,
   "id": "9de03bd7-f6d1-4993-8313-220517a24ed3",
   "metadata": {},
   "outputs": [],
   "source": [
    "# Print number of skipped PAs (previously chosen in error)\n",
    "print(skip)"
   ]
  },
  {
   "cell_type": "code",
   "execution_count": 21,
   "id": "6a73a005-f913-489e-a12f-b2aee8bfecf8",
   "metadata": {},
   "outputs": [
    {
     "name": "stdout",
     "output_type": "stream",
     "text": [
      "2640\n",
      "2657\n"
     ]
    }
   ],
   "source": [
    "# Consider the relative success of correctly identified SBAs\n",
    "# Note this also includes all of the pickoffs which are not real SBAs\n",
    "print(sum(df['SBA']))\n",
    "print(len(df[(df['Men_OB']=='Men_On')&(df['type']!='pitch')&((df['details.event'].isin(steals))|((df['details.description']=='Pickoff Attempt 1B')&(df['result.eventType'].str.contains('caught_stealing_2b')))]))"
   ]
  },
  {
   "cell_type": "code",
   "execution_count": 23,
   "id": "107f3f90-934b-4573-bad4-c42546b04102",
   "metadata": {},
   "outputs": [
    {
     "name": "stdout",
     "output_type": "stream",
     "text": [
      "807669\n",
      "166744\n"
     ]
    }
   ],
   "source": [
    "# Print the length of the entire df\n",
    "print(len(df))\n",
    "# Filter to only consider situations with a singular runner on first\n",
    "df = df[df['Men_OB']=='Men_On']\n",
    "# Print length of df post filter\n",
    "print(len(df))"
   ]
  },
  {
   "cell_type": "code",
   "execution_count": 24,
   "id": "076e6eba-d70b-4263-b2ba-e1d67d01a560",
   "metadata": {},
   "outputs": [
    {
     "data": {
      "text/plain": [
       "143744"
      ]
     },
     "execution_count": 24,
     "metadata": {},
     "output_type": "execute_result"
    }
   ],
   "source": [
    "# Further filter so df only includes pitches, the SBAs now associated with pitches\n",
    "df = df[df['type']=='pitch']\n",
    "# Print new length of df\n",
    "len(df)"
   ]
  },
  {
   "cell_type": "code",
   "execution_count": 25,
   "id": "820c89ab-aa28-4786-b566-1e6b5eb4bba8",
   "metadata": {},
   "outputs": [
    {
     "data": {
      "text/plain": [
       "2638"
      ]
     },
     "execution_count": 25,
     "metadata": {},
     "output_type": "execute_result"
    }
   ],
   "source": [
    "# Consider response variable count\n",
    "df['SBA'].value_counts()"
   ]
  },
  {
   "cell_type": "markdown",
   "id": "173465be-0b1a-4ce7-b201-983205e8207a",
   "metadata": {},
   "source": [
    "## Remember to adjust GRACE PERIOD:\n",
    "#### Note:\n",
    "If data is from Double-A or Triple-A in 2022, they started the season with a \"Grace Period\" relative to the Pitch Timer. Filter to only include games after this period."
   ]
  },
  {
   "cell_type": "code",
   "execution_count": 28,
   "id": "eb99d5da-641e-420d-a23b-a4aaa1821b47",
   "metadata": {},
   "outputs": [],
   "source": [
    "# # 2022 GRACE PERIOD AAA AND AA\n",
    "# df['game_date'] = pd.to_datetime(df['game_date'])\n",
    "# df = df[df['game_date']>='2022-04-15']\n",
    "# sorted(df['game_date'].values)[0]"
   ]
  },
  {
   "cell_type": "code",
   "execution_count": 26,
   "id": "dd373ced-0b58-4461-830d-ef7dfc6adc69",
   "metadata": {},
   "outputs": [],
   "source": [
    "# Rename columns for export\n",
    "rename = {'matchup.batter.id':'Batter_id', 'matchup.batter.fullName':'Batter_name', \n",
    "          'matchup.pitcher.id':'Pitcher_id', 'matchup.pitcher.fullName':'Pitcher_name'}\n",
    "\n",
    "df = df.rename(columns=rename)"
   ]
  },
  {
   "cell_type": "code",
   "execution_count": 27,
   "id": "93f8b0f4-e5da-4231-9615-9dd435af8c3e",
   "metadata": {},
   "outputs": [],
   "source": [
    "# Create final df\n",
    "f_cols = ['game_pk','Strikes', 'Balls', 'Outs', 'Batter_home', 'Inning',\n",
    "          'firstID',  'Batter_id', 'Pitcher_id', 'AB_pickoffs', 'SBA_check', 'SBA_spec', 'SBA']\n",
    "df_f = df[f_cols].copy()"
   ]
  },
  {
   "cell_type": "markdown",
   "id": "89136404-c0db-41fd-b388-d90ec4241b8a",
   "metadata": {},
   "source": [
    "## Remember to CHANGE YEAR AND LEAGUE:\n",
    "#### Relative to season cleaning"
   ]
  },
  {
   "cell_type": "code",
   "execution_count": 29,
   "id": "fd247af6-c69a-4b0f-b981-d87284c5ac94",
   "metadata": {},
   "outputs": [],
   "source": [
    "# Set Year and League values\n",
    "df_f['Year'] = 2014\n",
    "df_f['League'] = 'AA'"
   ]
  },
  {
   "cell_type": "markdown",
   "id": "0478b9b2-e5f7-4a6d-b56d-f45a7a72dda3",
   "metadata": {},
   "source": [
    "## Remember to CHANGE TREATMENTS:\n",
    "#### Relative to season cleaning"
   ]
  },
  {
   "cell_type": "code",
   "execution_count": 30,
   "id": "c6660259-40d6-44c7-96d8-ffca8fc273f5",
   "metadata": {},
   "outputs": [],
   "source": [
    "# Set rule implemenation status\n",
    "\n",
    "# Pitch timer\n",
    "# Control, v1, v2\n",
    "df_f['Pitch_timer'] = 'Control'\n",
    "\n",
    "# Bigger Bases\n",
    "# 0, 1\n",
    "df_f['Bigger_bases'] = 0\n",
    "\n",
    "# Defensive shift limits \n",
    "# Control, v1, v2\n",
    "df_f['Defensive_shift_limits'] = 'Control'"
   ]
  },
  {
   "cell_type": "markdown",
   "id": "62b9ccd3-a02e-4101-9074-83bab49e6c06",
   "metadata": {},
   "source": [
    "### ABS Adjustment:"
   ]
  },
  {
   "cell_type": "code",
   "execution_count": 31,
   "id": "5e117bca-86e2-487b-af54-a51431686083",
   "metadata": {},
   "outputs": [
    {
     "data": {
      "text/plain": [
       "ABS\n",
       "0    143744\n",
       "Name: count, dtype: int64"
      ]
     },
     "execution_count": 31,
     "metadata": {},
     "output_type": "execute_result"
    }
   ],
   "source": [
    "# Read in problematic PAs\n",
    "pks = pd.read_csv('problem_pks.csv', low_memory=False)\n",
    "\n",
    "# Assign indicator for problematic\n",
    "df_f['ABS'] = np.where((df_f['Year']==2023)&(df_f['League']=='AAA'), 1, np.where(df_f['game_pk'].isin(pks['value'].values), 1, 0))\n",
    "\n",
    "# Evaluate values\n",
    "df_f['ABS'].value_counts()"
   ]
  },
  {
   "cell_type": "code",
   "execution_count": 32,
   "id": "a34cad0b-6dce-4a9a-ae32-70b93b5ecd11",
   "metadata": {},
   "outputs": [],
   "source": [
    "# Create pitcher, batter, and first baserunner keys\n",
    "pitcher_key = df[['Pitcher_name', 'Pitcher_id']].copy().drop_duplicates(ignore_index=True)\n",
    "batter_key = df[['Batter_name', 'Batter_id']].copy().drop_duplicates(ignore_index=True)\n",
    "first_key = df[['firstName', 'firstID']].copy().drop_duplicates(ignore_index=True)"
   ]
  },
  {
   "cell_type": "code",
   "execution_count": 33,
   "id": "10f26902-06cb-49b1-8ad6-0815e52cd1b1",
   "metadata": {},
   "outputs": [
    {
     "data": {
      "text/plain": [
       "143744"
      ]
     },
     "execution_count": 33,
     "metadata": {},
     "output_type": "execute_result"
    }
   ],
   "source": [
    "# Print final length of df\n",
    "len(df_f)"
   ]
  },
  {
   "cell_type": "markdown",
   "id": "88c0edc4-6468-420a-aafe-3cc7a4be8e0c",
   "metadata": {},
   "source": [
    "## Write and export code to csv:\n",
    "### Remember to CHANGE FILE LABELS."
   ]
  },
  {
   "cell_type": "code",
   "execution_count": 34,
   "id": "f5901f08-2b6f-44bb-b2c7-e9d6cbc045ee",
   "metadata": {},
   "outputs": [],
   "source": [
    "df_f.to_csv('da14_SB.csv')\n",
    "pitcher_key.to_csv('pitcher_key_SB_da14.csv')\n",
    "batter_key.to_csv('batter_key_SB_da14.csv')\n",
    "first_key.to_csv('first_key_SB_da14.csv')"
   ]
  },
  {
   "cell_type": "code",
   "execution_count": null,
   "id": "d8ba2690-1e70-48ef-bc0b-c8f8a0ae057c",
   "metadata": {},
   "outputs": [],
   "source": []
  }
 ],
 "metadata": {
  "kernelspec": {
   "display_name": "Python 3 (ipykernel)",
   "language": "python",
   "name": "python3"
  },
  "language_info": {
   "codemirror_mode": {
    "name": "ipython",
    "version": 3
   },
   "file_extension": ".py",
   "mimetype": "text/x-python",
   "name": "python",
   "nbconvert_exporter": "python",
   "pygments_lexer": "ipython3",
   "version": "3.11.7"
  }
 },
 "nbformat": 4,
 "nbformat_minor": 5
}
